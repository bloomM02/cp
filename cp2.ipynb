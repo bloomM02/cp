{
  "nbformat": 4,
  "nbformat_minor": 0,
  "metadata": {
    "colab": {
      "name": "Untitled2.ipynb",
      "provenance": []
    },
    "kernelspec": {
      "name": "python3",
      "display_name": "Python 3"
    },
    "language_info": {
      "name": "python"
    }
  },
  "cells": [
    {
      "cell_type": "code",
      "metadata": {
        "colab": {
          "base_uri": "https://localhost:8080/"
        },
        "id": "d8X0k624MwXg",
        "outputId": "840aa1ec-3523-475b-81ca-e31a2e815a5d"
      },
      "source": [
        "\n",
        "list1=[2, 3, 6]\n",
        "s=1\n",
        "for i in list1:\n",
        "  s=s*i\n",
        "print(s)\n",
        "  "
      ],
      "execution_count": 68,
      "outputs": [
        {
          "output_type": "stream",
          "text": [
            "36\n"
          ],
          "name": "stdout"
        }
      ]
    },
    {
      "cell_type": "code",
      "metadata": {
        "colab": {
          "base_uri": "https://localhost:8080/"
        },
        "id": "8DHJwW-pNIGx",
        "outputId": "1445bfd0-92fc-478d-a205-1ba58c6cbfa8"
      },
      "source": [
        "list1=[(2, 5), (1, 2), (4, 4), (2, 3), (2, 1)]\n",
        "list1.sort()\n",
        "print(list1)"
      ],
      "execution_count": 57,
      "outputs": [
        {
          "output_type": "stream",
          "text": [
            "[(1, 2), (2, 1), (2, 3), (2, 5), (4, 4)]\n"
          ],
          "name": "stdout"
        }
      ]
    },
    {
      "cell_type": "code",
      "metadata": {
        "colab": {
          "base_uri": "https://localhost:8080/"
        },
        "id": "B-49aJClStFj",
        "outputId": "26a3f131-e14a-4c0f-f41c-997d6657fa53"
      },
      "source": [
        "d1 = {'a': 100, 'b': 200, 'c':300}\n",
        "d2 = {'a': 300, 'b': 200, 'd':400}\n",
        "for key in d2:\n",
        "    if key in d1:\n",
        "      d2[key] = d2[key] + d1[key]\n",
        "print(d2)\n",
        "  \n"
      ],
      "execution_count": 72,
      "outputs": [
        {
          "output_type": "stream",
          "text": [
            "{'a': 400, 'b': 400, 'd': 400}\n"
          ],
          "name": "stdout"
        }
      ]
    },
    {
      "cell_type": "code",
      "metadata": {
        "id": "VdwN8N4VVya8"
      },
      "source": [
        "d={}\n",
        "n=int(input(\"entrez un nb\"))\n",
        "\n",
        "for i in range(1,n+1):\n",
        " d[i]=i*i\n",
        "print(d)\n",
        "\n"
      ],
      "execution_count": null,
      "outputs": []
    },
    {
      "cell_type": "code",
      "metadata": {
        "colab": {
          "base_uri": "https://localhost:8080/"
        },
        "id": "EuE9U_aOnoJS",
        "outputId": "0946fc99-d6c0-4042-d855-ba923d327e68"
      },
      "source": [
        " list= [('item1', '12.20'), ('item2', '15.10'), ('item3', '24.5')]\n",
        "list.reverse()\n",
        "print(list)"
      ],
      "execution_count": 103,
      "outputs": [
        {
          "output_type": "stream",
          "text": [
            "[('item3', '24.5'), ('item2', '15.10'), ('item1', '12.20')]\n"
          ],
          "name": "stdout"
        }
      ]
    }
  ]
}