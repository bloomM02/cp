{
  "nbformat": 4,
  "nbformat_minor": 0,
  "metadata": {
    "colab": {
      "name": "Untitled2.ipynb",
      "provenance": [],
      "collapsed_sections": []
    },
    "kernelspec": {
      "name": "python3",
      "display_name": "Python 3"
    },
    "language_info": {
      "name": "python"
    }
  },
  "cells": [
    {
      "cell_type": "code",
      "metadata": {
        "colab": {
          "base_uri": "https://localhost:8080/"
        },
        "id": "d8X0k624MwXg",
        "outputId": "840aa1ec-3523-475b-81ca-e31a2e815a5d"
      },
      "source": [
        "\n",
        "list1=[2, 3, 6]\n",
        "s=1\n",
        "for i in list1:\n",
        "  s=s*i\n",
        "print(s)\n",
        "  "
      ],
      "execution_count": null,
      "outputs": [
        {
          "output_type": "stream",
          "text": [
            "36\n"
          ],
          "name": "stdout"
        }
      ]
    },
    {
      "cell_type": "code",
      "metadata": {
        "colab": {
          "base_uri": "https://localhost:8080/"
        },
        "id": "8DHJwW-pNIGx",
        "outputId": "d3fcb114-dda6-4346-8881-df3ceb313a17"
      },
      "source": [
        "list=[(2, 5), (1, 2), (4, 4), (2, 3), (2, 1)]\n",
        "list.sort(key=lambda x:x[1])\n",
        "print(list)"
      ],
      "execution_count": 53,
      "outputs": [
        {
          "output_type": "stream",
          "text": [
            "[(2, 1), (1, 2), (2, 3), (4, 4), (2, 5)]\n"
          ],
          "name": "stdout"
        }
      ]
    },
    {
      "cell_type": "code",
      "metadata": {
        "colab": {
          "base_uri": "https://localhost:8080/"
        },
        "id": "B-49aJClStFj",
        "outputId": "497ab0a3-c789-4d47-b995-bc4a00ac466d"
      },
      "source": [
        "d1 = {'a': 100, 'b': 200, 'c':300}\n",
        "d2 = {'a': 300, 'b': 200, 'd':400}\n",
        "d3={}\n",
        "for key in d2:\n",
        "    if key in d1:\n",
        "      d2[key] = d2[key] + d1[key] \n",
        "d3=dict(d1,**d2) \n",
        "print(d3)\n",
        "\n"
      ],
      "execution_count": 52,
      "outputs": [
        {
          "output_type": "stream",
          "text": [
            "{'a': 400, 'b': 400, 'c': 300, 'd': 400}\n"
          ],
          "name": "stdout"
        }
      ]
    },
    {
      "cell_type": "code",
      "metadata": {
        "colab": {
          "base_uri": "https://localhost:8080/"
        },
        "id": "VdwN8N4VVya8",
        "outputId": "6efe862b-52ab-4fea-ff84-73e198d8f206"
      },
      "source": [
        "d={}\n",
        "n=int(input(\"entrez un nb\"))\n",
        "\n",
        "for i in range(1,n+1):\n",
        " d[i]=i*i\n",
        "print(d)\n",
        "\n"
      ],
      "execution_count": null,
      "outputs": [
        {
          "output_type": "stream",
          "text": [
            "entrez un nb6\n",
            "{1: 1, 2: 4, 3: 9, 4: 16, 5: 25, 6: 36}\n"
          ],
          "name": "stdout"
        }
      ]
    },
    {
      "cell_type": "code",
      "metadata": {
        "colab": {
          "base_uri": "https://localhost:8080/"
        },
        "id": "EuE9U_aOnoJS",
        "outputId": "8cf4ba2f-ea52-415d-d55e-d6d63a805d00"
      },
      "source": [
        " list= [('item1', '12.20'), ('item2', '15.10'), ('item3', '24.5')]\n",
        "list.sort(key=lambda x=float:x[1])\n",
        "print(list)"
      ],
      "execution_count": 54,
      "outputs": [
        {
          "output_type": "stream",
          "text": [
            "[('item1', '12.20'), ('item2', '15.10'), ('item3', '24.5')]\n"
          ],
          "name": "stdout"
        }
      ]
    }
  ]
}